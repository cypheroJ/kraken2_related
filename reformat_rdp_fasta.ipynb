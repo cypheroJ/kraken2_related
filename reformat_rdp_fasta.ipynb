from pathlib import Path


''' ===== Configuration ===== '''
input_fasta = "/home/huanglabserver/trainset19_072023.pds/trainset19_072023.pds.fasta"
ref_header = "/home/huanglabserver/localdatabase/trainset19_072023.pds/16S_rdp_v19.tax"
output_fasta = "/home/huanglabserver/localdatabase/trainset19_072023.pds/16S_rdp_v19.fasta"


''' ===== Workflow ===== '''
def reformat_taxonomy(taxonomy_string):
    levels = taxonomy_string.strip().split(";")
    prefixes = ["k__", "p__", "c__", "o__", "f__", "g__"]
    reformatted = ";".join(f"{prefix}{level.strip()}" for prefix, level in zip(prefixes, levels))
    return reformatted

with open(input_fasta, 'r') as infile, open(ref_header, 'r') as ref, open(output_fasta, 'w') as outfile:
    seqid_to_tax_name = {}
    seqid_to_tax_level = {}
    for line in ref:
        part = line.strip().split("\t")
        seqid_to_tax_name[part[0]] = part[1].split(";")[-2].strip() + "_sp"
        seqid_to_tax_level[part[0]] = part[1]
            
    for line in infile:
        if line.startswith(">"):
            parts = line.strip().split("\t")
            if len(parts) >= 3:
                seqid, tax_name, tax_level = parts[0], parts[1], parts[2]
                reformat = tax_level.replace(" ", "") \
                                    .replace("domain", "k") \
                                    .replace("phylum", "p") \
                                    .replace("class", "c") \
                                    .replace("order", "o") \
                                    .replace("family", "f") \
                                    .replace("genus", "g") \
                                    + ";" + "s__" + tax_name.split(" str.")[0].strip().replace(" ", "_")
            else:
                seqid = parts[0]
                tax_name = seqid_to_tax_name.get(seqid.strip(">"), "")
                reformat = reformat_taxonomy(seqid_to_tax_level.get(seqid.strip(">"), ""))+ ";s__" + tax_name
            new_header = f"{seqid}|{reformat}\n"
            outfile.write(new_header)
        else:
            outfile.write(line)
    print("FASTA file reformatted successfully")
